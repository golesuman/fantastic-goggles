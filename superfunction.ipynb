{
 "cells": [
  {
   "cell_type": "code",
   "execution_count": 12,
   "id": "d0ca29bb",
   "metadata": {},
   "outputs": [],
   "source": [
    "class Measurements:\n",
    "    def __init__(self, length, width):\n",
    "        self.length = length\n",
    "        self.width = width\n",
    "    \n",
    "    \n",
    "class Rectangle(Measurements):\n",
    "    def __init__(self, length, width):\n",
    "        super().__init__(length, width)\n",
    "        \n",
    "    def calArea(self):\n",
    "        return self.length * self.width\n",
    "    \n",
    "class Cube(Rectangle):\n",
    "    def __init__(self, length, width, height):\n",
    "        super().__init__(length, width)\n",
    "        self.height = height\n",
    "        \n",
    "    def calVolume(self):\n",
    "        return self.length * self.width * self.height\n",
    "    \n",
    "    \n"
   ]
  },
  {
   "cell_type": "code",
   "execution_count": 13,
   "id": "2ce174ef",
   "metadata": {},
   "outputs": [
    {
     "name": "stdout",
     "output_type": "stream",
     "text": [
      "2000\n"
     ]
    }
   ],
   "source": [
    "c1 = Cube(10,20,10)\n",
    "print(c1.calVolume())"
   ]
  },
  {
   "cell_type": "code",
   "execution_count": 14,
   "id": "da804063",
   "metadata": {},
   "outputs": [
    {
     "name": "stdout",
     "output_type": "stream",
     "text": [
      "200\n"
     ]
    }
   ],
   "source": [
    "print(c1.calArea())"
   ]
  },
  {
   "cell_type": "code",
   "execution_count": 15,
   "id": "2c36e385",
   "metadata": {},
   "outputs": [
    {
     "name": "stdout",
     "output_type": "stream",
     "text": [
      "10\n"
     ]
    }
   ],
   "source": [
    "print(c1.length)"
   ]
  },
  {
   "cell_type": "code",
   "execution_count": 16,
   "id": "502217e3",
   "metadata": {},
   "outputs": [
    {
     "name": "stdout",
     "output_type": "stream",
     "text": [
      "20\n"
     ]
    }
   ],
   "source": [
    "print(c1.width)"
   ]
  },
  {
   "cell_type": "code",
   "execution_count": 17,
   "id": "bf7c7555",
   "metadata": {},
   "outputs": [
    {
     "name": "stdout",
     "output_type": "stream",
     "text": [
      "10\n"
     ]
    }
   ],
   "source": [
    "print(c1.height)"
   ]
  },
  {
   "cell_type": "code",
   "execution_count": null,
   "id": "c06a569e",
   "metadata": {},
   "outputs": [],
   "source": []
  }
 ],
 "metadata": {
  "kernelspec": {
   "display_name": "Python 3 (ipykernel)",
   "language": "python",
   "name": "python3"
  },
  "language_info": {
   "codemirror_mode": {
    "name": "ipython",
    "version": 3
   },
   "file_extension": ".py",
   "mimetype": "text/x-python",
   "name": "python",
   "nbconvert_exporter": "python",
   "pygments_lexer": "ipython3",
   "version": "3.9.12"
  }
 },
 "nbformat": 4,
 "nbformat_minor": 5
}
