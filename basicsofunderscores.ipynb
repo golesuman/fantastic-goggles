{
 "cells": [
  {
   "cell_type": "code",
   "execution_count": 1,
   "id": "59cd3a3e",
   "metadata": {},
   "outputs": [
    {
     "data": {
      "text/plain": [
       "11"
      ]
     },
     "execution_count": 1,
     "metadata": {},
     "output_type": "execute_result"
    }
   ],
   "source": [
    "5+6"
   ]
  },
  {
   "cell_type": "code",
   "execution_count": 2,
   "id": "e801220c",
   "metadata": {},
   "outputs": [
    {
     "data": {
      "text/plain": [
       "11"
      ]
     },
     "execution_count": 2,
     "metadata": {},
     "output_type": "execute_result"
    }
   ],
   "source": [
    "_"
   ]
  },
  {
   "cell_type": "code",
   "execution_count": 3,
   "id": "56791da0",
   "metadata": {},
   "outputs": [
    {
     "data": {
      "text/plain": [
       "5"
      ]
     },
     "execution_count": 3,
     "metadata": {},
     "output_type": "execute_result"
    }
   ],
   "source": [
    "5"
   ]
  },
  {
   "cell_type": "code",
   "execution_count": 4,
   "id": "dd29104e",
   "metadata": {},
   "outputs": [
    {
     "data": {
      "text/plain": [
       "20"
      ]
     },
     "execution_count": 4,
     "metadata": {},
     "output_type": "execute_result"
    }
   ],
   "source": [
    "_+10+_"
   ]
  },
  {
   "cell_type": "markdown",
   "id": "5f8bc9bc",
   "metadata": {},
   "source": [
    "## If we don't use any variables to store numbers then python automatically stores it in _"
   ]
  },
  {
   "cell_type": "code",
   "execution_count": 10,
   "id": "2b91c831",
   "metadata": {},
   "outputs": [
    {
     "name": "stdout",
     "output_type": "stream",
     "text": [
      "0 0\n",
      "1 1\n",
      "2 2\n",
      "3 3\n",
      "4 4\n"
     ]
    }
   ],
   "source": [
    "# to use an a varible\n",
    "for i,_ in enumerate(range(5)):\n",
    "    print(i,_)"
   ]
  },
  {
   "cell_type": "code",
   "execution_count": 11,
   "id": "fa98f54b",
   "metadata": {},
   "outputs": [
    {
     "name": "stdout",
     "output_type": "stream",
     "text": [
      "1 3\n"
     ]
    }
   ],
   "source": [
    "## for igonoring valus\n",
    "(a,_,b)=(1,2,3)\n",
    "print(a,b)"
   ]
  },
  {
   "cell_type": "code",
   "execution_count": 12,
   "id": "28beff87",
   "metadata": {},
   "outputs": [
    {
     "name": "stdout",
     "output_type": "stream",
     "text": [
      "1 5\n"
     ]
    }
   ],
   "source": [
    "(p, *_, q) = (1, 2, 3, 5)\n",
    "print(p,q)"
   ]
  },
  {
   "cell_type": "code",
   "execution_count": 13,
   "id": "74d12db5",
   "metadata": {},
   "outputs": [],
   "source": [
    "# _ single pre underscores are only for internal use we can't use it in another files by importing it. \n",
    "# It will throw an error if we call that function\n",
    " "
   ]
  },
  {
   "cell_type": "code",
   "execution_count": 15,
   "id": "cec731d9",
   "metadata": {},
   "outputs": [
    {
     "name": "stdout",
     "output_type": "stream",
     "text": [
      "name\n"
     ]
    }
   ],
   "source": [
    "#single postunderscore can be used to use inbuild python parameters or functions as a varible\n",
    "_print = 'name'\n",
    "print(_print)"
   ]
  },
  {
   "cell_type": "code",
   "execution_count": null,
   "id": "d043f3eb",
   "metadata": {},
   "outputs": [],
   "source": []
  }
 ],
 "metadata": {
  "kernelspec": {
   "display_name": "Python 3 (ipykernel)",
   "language": "python",
   "name": "python3"
  },
  "language_info": {
   "codemirror_mode": {
    "name": "ipython",
    "version": 3
   },
   "file_extension": ".py",
   "mimetype": "text/x-python",
   "name": "python",
   "nbconvert_exporter": "python",
   "pygments_lexer": "ipython3",
   "version": "3.9.12"
  }
 },
 "nbformat": 4,
 "nbformat_minor": 5
}
